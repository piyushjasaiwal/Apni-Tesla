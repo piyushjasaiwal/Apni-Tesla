{
 "cells": [
  {
   "cell_type": "code",
   "execution_count": 3,
   "metadata": {
    "colab": {
     "base_uri": "https://localhost:8080/",
     "height": 121
    },
    "colab_type": "code",
    "id": "irS0Tg6XGUdf",
    "outputId": "3cdd70ef-b8e1-4294-85c5-1ba6f16b9226"
   },
   "outputs": [],
   "source": [
    "# from google.colab import drive\n",
    "# drive.mount('/content/drive/')"
   ]
  },
  {
   "cell_type": "code",
   "execution_count": 1,
   "metadata": {
    "colab": {},
    "colab_type": "code",
    "id": "AGzBSvZGbLlx"
   },
   "outputs": [],
   "source": [
    "import os"
   ]
  },
  {
   "cell_type": "code",
   "execution_count": 16,
   "metadata": {
    "colab": {},
    "colab_type": "code",
    "id": "T3z11XrFeSJm"
   },
   "outputs": [
    {
     "name": "stdout",
     "output_type": "stream",
     "text": [
      "ERROR! Session/line number was not unique in database. History logging moved to new session 170\n"
     ]
    }
   ],
   "source": [
    "import os.path\n",
    "import keras\n",
    "import pandas as pd\n",
    "import numpy as np\n",
    "from keras.layers import Conv2D,Flatten, Dense, Dropout, MaxPooling2D\n",
    "from keras.models import Sequential\n",
    "import tensorflow as tf\n",
    "from keras import regularizers\n",
    "from keras.optimizers import Adam"
   ]
  },
  {
   "cell_type": "code",
   "execution_count": 3,
   "metadata": {
    "colab": {},
    "colab_type": "code",
    "id": "3z953NHMp4N1"
   },
   "outputs": [],
   "source": [
    "path = 'D:/6 semester/AI/project/selfDrive/dataset/07012018'"
   ]
  },
  {
   "cell_type": "code",
   "execution_count": null,
   "metadata": {
    "colab": {},
    "colab_type": "code",
    "id": "Z1TzuF3XSu9w"
   },
   "outputs": [],
   "source": [
    "# import zipfile\n",
    "# zip_ref = zipfile.ZipFile(f\"{path}/07012018.zip\", 'r')\n",
    "# zip_ref.extractall(\"/tmp\")\n",
    "# zip_ref.close()"
   ]
  },
  {
   "cell_type": "code",
   "execution_count": 4,
   "metadata": {
    "colab": {
     "base_uri": "https://localhost:8080/",
     "height": 402
    },
    "colab_type": "code",
    "id": "WBB4y27_Shwy",
    "outputId": "2b7645ec-fb6e-490f-9d96-735f3a153e9e"
   },
   "outputs": [
    {
     "data": {
      "text/html": [
       "<div>\n",
       "<style scoped>\n",
       "    .dataframe tbody tr th:only-of-type {\n",
       "        vertical-align: middle;\n",
       "    }\n",
       "\n",
       "    .dataframe tbody tr th {\n",
       "        vertical-align: top;\n",
       "    }\n",
       "\n",
       "    .dataframe thead th {\n",
       "        text-align: right;\n",
       "    }\n",
       "</style>\n",
       "<table border=\"1\" class=\"dataframe\">\n",
       "  <thead>\n",
       "    <tr style=\"text-align: right;\">\n",
       "      <th></th>\n",
       "      <th>image&amp;angle</th>\n",
       "      <th>Date&amp;time</th>\n",
       "    </tr>\n",
       "  </thead>\n",
       "  <tbody>\n",
       "    <tr>\n",
       "      <th>0</th>\n",
       "      <td>0.jpg 0.000000</td>\n",
       "      <td>2018-07-01 17:09:44:912</td>\n",
       "    </tr>\n",
       "    <tr>\n",
       "      <th>1</th>\n",
       "      <td>1.jpg 0.000000</td>\n",
       "      <td>2018-07-01 17:09:44:972</td>\n",
       "    </tr>\n",
       "    <tr>\n",
       "      <th>2</th>\n",
       "      <td>2.jpg 0.000000</td>\n",
       "      <td>2018-07-01 17:09:45:11</td>\n",
       "    </tr>\n",
       "    <tr>\n",
       "      <th>3</th>\n",
       "      <td>3.jpg 0.000000</td>\n",
       "      <td>2018-07-01 17:09:45:76</td>\n",
       "    </tr>\n",
       "    <tr>\n",
       "      <th>4</th>\n",
       "      <td>4.jpg 0.000000</td>\n",
       "      <td>2018-07-01 17:09:45:105</td>\n",
       "    </tr>\n",
       "    <tr>\n",
       "      <th>...</th>\n",
       "      <td>...</td>\n",
       "      <td>...</td>\n",
       "    </tr>\n",
       "    <tr>\n",
       "      <th>63820</th>\n",
       "      <td>63820.jpg -11.500000</td>\n",
       "      <td>2018-07-01 18:05:36:384</td>\n",
       "    </tr>\n",
       "    <tr>\n",
       "      <th>63821</th>\n",
       "      <td>63821.jpg -11.290000</td>\n",
       "      <td>2018-07-01 18:05:36:484</td>\n",
       "    </tr>\n",
       "    <tr>\n",
       "      <th>63822</th>\n",
       "      <td>63822.jpg -11.290000</td>\n",
       "      <td>2018-07-01 18:05:36:542</td>\n",
       "    </tr>\n",
       "    <tr>\n",
       "      <th>63823</th>\n",
       "      <td>63823.jpg -11.290000</td>\n",
       "      <td>2018-07-01 18:05:36:583</td>\n",
       "    </tr>\n",
       "    <tr>\n",
       "      <th>63824</th>\n",
       "      <td>63824.jpg -11.290000</td>\n",
       "      <td>2018-07-01 18:05:36:610</td>\n",
       "    </tr>\n",
       "  </tbody>\n",
       "</table>\n",
       "<p>63825 rows × 2 columns</p>\n",
       "</div>"
      ],
      "text/plain": [
       "                image&angle                Date&time\n",
       "0            0.jpg 0.000000  2018-07-01 17:09:44:912\n",
       "1            1.jpg 0.000000  2018-07-01 17:09:44:972\n",
       "2            2.jpg 0.000000   2018-07-01 17:09:45:11\n",
       "3            3.jpg 0.000000   2018-07-01 17:09:45:76\n",
       "4            4.jpg 0.000000  2018-07-01 17:09:45:105\n",
       "...                     ...                      ...\n",
       "63820  63820.jpg -11.500000  2018-07-01 18:05:36:384\n",
       "63821  63821.jpg -11.290000  2018-07-01 18:05:36:484\n",
       "63822  63822.jpg -11.290000  2018-07-01 18:05:36:542\n",
       "63823  63823.jpg -11.290000  2018-07-01 18:05:36:583\n",
       "63824  63824.jpg -11.290000  2018-07-01 18:05:36:610\n",
       "\n",
       "[63825 rows x 2 columns]"
      ]
     },
     "execution_count": 4,
     "metadata": {},
     "output_type": "execute_result"
    }
   ],
   "source": [
    "#reading text file\n",
    "text_data = pd.read_csv('D:/6 semester/AI/project/selfDrive/dataset/07012018/data.txt',header = None, sep = \",\",names = [\"image&angle\", \"Date&time\"] )\n",
    "text_data"
   ]
  },
  {
   "cell_type": "code",
   "execution_count": 5,
   "metadata": {
    "colab": {
     "base_uri": "https://localhost:8080/",
     "height": 402
    },
    "colab_type": "code",
    "id": "9jNBMQaS7lvK",
    "outputId": "d0885351-ad22-40f6-b03e-fdef6422deac"
   },
   "outputs": [
    {
     "data": {
      "text/html": [
       "<div>\n",
       "<style scoped>\n",
       "    .dataframe tbody tr th:only-of-type {\n",
       "        vertical-align: middle;\n",
       "    }\n",
       "\n",
       "    .dataframe tbody tr th {\n",
       "        vertical-align: top;\n",
       "    }\n",
       "\n",
       "    .dataframe thead th {\n",
       "        text-align: right;\n",
       "    }\n",
       "</style>\n",
       "<table border=\"1\" class=\"dataframe\">\n",
       "  <thead>\n",
       "    <tr style=\"text-align: right;\">\n",
       "      <th></th>\n",
       "      <th>image&amp;angle</th>\n",
       "    </tr>\n",
       "  </thead>\n",
       "  <tbody>\n",
       "    <tr>\n",
       "      <th>0</th>\n",
       "      <td>0.jpg 0.000000</td>\n",
       "    </tr>\n",
       "    <tr>\n",
       "      <th>1</th>\n",
       "      <td>1.jpg 0.000000</td>\n",
       "    </tr>\n",
       "    <tr>\n",
       "      <th>2</th>\n",
       "      <td>2.jpg 0.000000</td>\n",
       "    </tr>\n",
       "    <tr>\n",
       "      <th>3</th>\n",
       "      <td>3.jpg 0.000000</td>\n",
       "    </tr>\n",
       "    <tr>\n",
       "      <th>4</th>\n",
       "      <td>4.jpg 0.000000</td>\n",
       "    </tr>\n",
       "    <tr>\n",
       "      <th>...</th>\n",
       "      <td>...</td>\n",
       "    </tr>\n",
       "    <tr>\n",
       "      <th>63820</th>\n",
       "      <td>63820.jpg -11.500000</td>\n",
       "    </tr>\n",
       "    <tr>\n",
       "      <th>63821</th>\n",
       "      <td>63821.jpg -11.290000</td>\n",
       "    </tr>\n",
       "    <tr>\n",
       "      <th>63822</th>\n",
       "      <td>63822.jpg -11.290000</td>\n",
       "    </tr>\n",
       "    <tr>\n",
       "      <th>63823</th>\n",
       "      <td>63823.jpg -11.290000</td>\n",
       "    </tr>\n",
       "    <tr>\n",
       "      <th>63824</th>\n",
       "      <td>63824.jpg -11.290000</td>\n",
       "    </tr>\n",
       "  </tbody>\n",
       "</table>\n",
       "<p>63825 rows × 1 columns</p>\n",
       "</div>"
      ],
      "text/plain": [
       "                image&angle\n",
       "0            0.jpg 0.000000\n",
       "1            1.jpg 0.000000\n",
       "2            2.jpg 0.000000\n",
       "3            3.jpg 0.000000\n",
       "4            4.jpg 0.000000\n",
       "...                     ...\n",
       "63820  63820.jpg -11.500000\n",
       "63821  63821.jpg -11.290000\n",
       "63822  63822.jpg -11.290000\n",
       "63823  63823.jpg -11.290000\n",
       "63824  63824.jpg -11.290000\n",
       "\n",
       "[63825 rows x 1 columns]"
      ]
     },
     "execution_count": 5,
     "metadata": {},
     "output_type": "execute_result"
    }
   ],
   "source": [
    "new_text_data = text_data.drop(\"Date&time\",axis = 1)\n",
    "new_text_data"
   ]
  },
  {
   "cell_type": "code",
   "execution_count": 6,
   "metadata": {
    "colab": {
     "base_uri": "https://localhost:8080/",
     "height": 402
    },
    "colab_type": "code",
    "id": "FobcIQVl7mZ2",
    "outputId": "abb86a92-9727-47df-bb60-223220f23dc0"
   },
   "outputs": [
    {
     "data": {
      "text/html": [
       "<div>\n",
       "<style scoped>\n",
       "    .dataframe tbody tr th:only-of-type {\n",
       "        vertical-align: middle;\n",
       "    }\n",
       "\n",
       "    .dataframe tbody tr th {\n",
       "        vertical-align: top;\n",
       "    }\n",
       "\n",
       "    .dataframe thead th {\n",
       "        text-align: right;\n",
       "    }\n",
       "</style>\n",
       "<table border=\"1\" class=\"dataframe\">\n",
       "  <thead>\n",
       "    <tr style=\"text-align: right;\">\n",
       "      <th></th>\n",
       "      <th>image_name</th>\n",
       "      <th>angle</th>\n",
       "    </tr>\n",
       "  </thead>\n",
       "  <tbody>\n",
       "    <tr>\n",
       "      <th>0</th>\n",
       "      <td>0.jpg</td>\n",
       "      <td>0.000000</td>\n",
       "    </tr>\n",
       "    <tr>\n",
       "      <th>1</th>\n",
       "      <td>1.jpg</td>\n",
       "      <td>0.000000</td>\n",
       "    </tr>\n",
       "    <tr>\n",
       "      <th>2</th>\n",
       "      <td>2.jpg</td>\n",
       "      <td>0.000000</td>\n",
       "    </tr>\n",
       "    <tr>\n",
       "      <th>3</th>\n",
       "      <td>3.jpg</td>\n",
       "      <td>0.000000</td>\n",
       "    </tr>\n",
       "    <tr>\n",
       "      <th>4</th>\n",
       "      <td>4.jpg</td>\n",
       "      <td>0.000000</td>\n",
       "    </tr>\n",
       "    <tr>\n",
       "      <th>...</th>\n",
       "      <td>...</td>\n",
       "      <td>...</td>\n",
       "    </tr>\n",
       "    <tr>\n",
       "      <th>63820</th>\n",
       "      <td>63820.jpg</td>\n",
       "      <td>-11.500000</td>\n",
       "    </tr>\n",
       "    <tr>\n",
       "      <th>63821</th>\n",
       "      <td>63821.jpg</td>\n",
       "      <td>-11.290000</td>\n",
       "    </tr>\n",
       "    <tr>\n",
       "      <th>63822</th>\n",
       "      <td>63822.jpg</td>\n",
       "      <td>-11.290000</td>\n",
       "    </tr>\n",
       "    <tr>\n",
       "      <th>63823</th>\n",
       "      <td>63823.jpg</td>\n",
       "      <td>-11.290000</td>\n",
       "    </tr>\n",
       "    <tr>\n",
       "      <th>63824</th>\n",
       "      <td>63824.jpg</td>\n",
       "      <td>-11.290000</td>\n",
       "    </tr>\n",
       "  </tbody>\n",
       "</table>\n",
       "<p>63825 rows × 2 columns</p>\n",
       "</div>"
      ],
      "text/plain": [
       "      image_name       angle\n",
       "0          0.jpg    0.000000\n",
       "1          1.jpg    0.000000\n",
       "2          2.jpg    0.000000\n",
       "3          3.jpg    0.000000\n",
       "4          4.jpg    0.000000\n",
       "...          ...         ...\n",
       "63820  63820.jpg  -11.500000\n",
       "63821  63821.jpg  -11.290000\n",
       "63822  63822.jpg  -11.290000\n",
       "63823  63823.jpg  -11.290000\n",
       "63824  63824.jpg  -11.290000\n",
       "\n",
       "[63825 rows x 2 columns]"
      ]
     },
     "execution_count": 6,
     "metadata": {},
     "output_type": "execute_result"
    }
   ],
   "source": [
    "#Making dataframe having angle column\n",
    "angles = new_text_data[\"image&angle\"].str.split(\" \")\n",
    "data_rand = angles.to_list()\n",
    "columns = ['image_name', 'angle']\n",
    "angle = pd.DataFrame(data_rand, columns = columns)\n",
    "angle\n",
    "  "
   ]
  },
  {
   "cell_type": "code",
   "execution_count": 7,
   "metadata": {
    "colab": {
     "base_uri": "https://localhost:8080/",
     "height": 402
    },
    "colab_type": "code",
    "id": "gBGkps6EC0_g",
    "outputId": "c6491011-63d4-4214-e9d1-25b8c0d45260"
   },
   "outputs": [
    {
     "data": {
      "text/html": [
       "<div>\n",
       "<style scoped>\n",
       "    .dataframe tbody tr th:only-of-type {\n",
       "        vertical-align: middle;\n",
       "    }\n",
       "\n",
       "    .dataframe tbody tr th {\n",
       "        vertical-align: top;\n",
       "    }\n",
       "\n",
       "    .dataframe thead th {\n",
       "        text-align: right;\n",
       "    }\n",
       "</style>\n",
       "<table border=\"1\" class=\"dataframe\">\n",
       "  <thead>\n",
       "    <tr style=\"text-align: right;\">\n",
       "      <th></th>\n",
       "      <th>angle</th>\n",
       "    </tr>\n",
       "  </thead>\n",
       "  <tbody>\n",
       "    <tr>\n",
       "      <th>0</th>\n",
       "      <td>0.000000</td>\n",
       "    </tr>\n",
       "    <tr>\n",
       "      <th>1</th>\n",
       "      <td>0.000000</td>\n",
       "    </tr>\n",
       "    <tr>\n",
       "      <th>2</th>\n",
       "      <td>0.000000</td>\n",
       "    </tr>\n",
       "    <tr>\n",
       "      <th>3</th>\n",
       "      <td>0.000000</td>\n",
       "    </tr>\n",
       "    <tr>\n",
       "      <th>4</th>\n",
       "      <td>0.000000</td>\n",
       "    </tr>\n",
       "    <tr>\n",
       "      <th>...</th>\n",
       "      <td>...</td>\n",
       "    </tr>\n",
       "    <tr>\n",
       "      <th>63820</th>\n",
       "      <td>-11.500000</td>\n",
       "    </tr>\n",
       "    <tr>\n",
       "      <th>63821</th>\n",
       "      <td>-11.290000</td>\n",
       "    </tr>\n",
       "    <tr>\n",
       "      <th>63822</th>\n",
       "      <td>-11.290000</td>\n",
       "    </tr>\n",
       "    <tr>\n",
       "      <th>63823</th>\n",
       "      <td>-11.290000</td>\n",
       "    </tr>\n",
       "    <tr>\n",
       "      <th>63824</th>\n",
       "      <td>-11.290000</td>\n",
       "    </tr>\n",
       "  </tbody>\n",
       "</table>\n",
       "<p>63825 rows × 1 columns</p>\n",
       "</div>"
      ],
      "text/plain": [
       "            angle\n",
       "0        0.000000\n",
       "1        0.000000\n",
       "2        0.000000\n",
       "3        0.000000\n",
       "4        0.000000\n",
       "...           ...\n",
       "63820  -11.500000\n",
       "63821  -11.290000\n",
       "63822  -11.290000\n",
       "63823  -11.290000\n",
       "63824  -11.290000\n",
       "\n",
       "[63825 rows x 1 columns]"
      ]
     },
     "execution_count": 7,
     "metadata": {},
     "output_type": "execute_result"
    }
   ],
   "source": [
    "final_angle = angle.drop(axis=1,columns=\"image_name\",index=None)\n",
    "final_angle"
   ]
  },
  {
   "cell_type": "code",
   "execution_count": 8,
   "metadata": {
    "colab": {
     "base_uri": "https://localhost:8080/",
     "height": 34
    },
    "colab_type": "code",
    "id": "peVGmqC9h4Zw",
    "outputId": "0a4c51b9-9e24-4447-bdd2-623b1b728313"
   },
   "outputs": [
    {
     "data": {
      "text/plain": [
       "(63825, 2)"
      ]
     },
     "execution_count": 8,
     "metadata": {},
     "output_type": "execute_result"
    }
   ],
   "source": [
    "data = angle.values\n",
    "data.shape"
   ]
  },
  {
   "cell_type": "code",
   "execution_count": 9,
   "metadata": {
    "colab": {
     "base_uri": "https://localhost:8080/",
     "height": 34
    },
    "colab_type": "code",
    "id": "jc4PTDg5iIaw",
    "outputId": "f8d50c7a-8328-4e2a-c142-70e3f57197b4"
   },
   "outputs": [
    {
     "name": "stdout",
     "output_type": "stream",
     "text": [
      "['0.jpg' '0.000000']\n"
     ]
    }
   ],
   "source": [
    "print(data[0])"
   ]
  },
  {
   "cell_type": "code",
   "execution_count": 10,
   "metadata": {
    "colab": {
     "base_uri": "https://localhost:8080/",
     "height": 34
    },
    "colab_type": "code",
    "id": "X1RliQ-niMJ4",
    "outputId": "0918f055-5fe3-4894-cf54-eeed93a8bf33"
   },
   "outputs": [
    {
     "name": "stdout",
     "output_type": "stream",
     "text": [
      "(63825,) (63825,)\n"
     ]
    }
   ],
   "source": [
    "x_data = data[:,0]\n",
    "y_data = data[:,1]\n",
    "print(x_data.shape,y_data.shape)"
   ]
  },
  {
   "cell_type": "code",
   "execution_count": null,
   "metadata": {
    "colab": {},
    "colab_type": "code",
    "id": "Kz_J3B22pvQA"
   },
   "outputs": [],
   "source": [
    "import cv2 as cv\n",
    "# from google.colab.patches import cv2_imshow\n",
    "import matplotlib.pyplot as plt"
   ]
  },
  {
   "cell_type": "code",
   "execution_count": null,
   "metadata": {
    "colab": {
     "base_uri": "https://localhost:8080/",
     "height": 118
    },
    "colab_type": "code",
    "id": "WzIExR7HqnJ6",
    "outputId": "01bac1d0-9d87-431a-e226-67214fc65615"
   },
   "outputs": [],
   "source": [
    "# os.listdir(\"/tmp/\")\n",
    "# import cv2"
   ]
  },
  {
   "cell_type": "code",
   "execution_count": null,
   "metadata": {
    "colab": {
     "base_uri": "https://localhost:8080/",
     "height": 273
    },
    "colab_type": "code",
    "id": "HtCzwRvXqzBe",
    "outputId": "75e80b7f-6077-464e-c67d-c028405e7e6b"
   },
   "outputs": [],
   "source": [
    "src = 'D:/6 semester/AI/project/selfDrive/dataset/07012018/data/0.jpg'\n",
    "input_image = cv.imread(src)\n",
    "scale_percent = 100 # Percent of the original image\n",
    "width = int(input_image.shape[0] / 255)\n",
    "height = int(input_image.shape[1] / 255)\n",
    "dim = (width, height)\n",
    "\n",
    "resized_img = cv.resize(input_image, dim, interpolation=cv.INTER_AREA)\n",
    "cv.imshow('name', input_image)\n",
    "# plt.imshow(\"\")\n",
    "\n",
    "# cv2.waitKey(0) \n",
    "\n",
    "  \n",
    "#closing all open windows \n",
    "# cv2.destroyAllWindows() "
   ]
  },
  {
   "cell_type": "markdown",
   "metadata": {
    "colab_type": "text",
    "id": "UZA2YWI-3IjW"
   },
   "source": [
    "## Exploring our Dataset and pre-processing the images\n"
   ]
  },
  {
   "cell_type": "code",
   "execution_count": 11,
   "metadata": {
    "colab": {
     "base_uri": "https://localhost:8080/",
     "height": 34
    },
    "colab_type": "code",
    "id": "FGf1u4z_7L8_",
    "outputId": "ca9611b7-d403-4363-9f51-1c271b0311bb"
   },
   "outputs": [],
   "source": [
    "import matplotlib\n",
    "import matplotlib.pyplot as plt\n",
    "from PIL import Image, ImageEnhance, ImageOps"
   ]
  },
  {
   "cell_type": "code",
   "execution_count": 12,
   "metadata": {
    "colab": {
     "base_uri": "https://localhost:8080/",
     "height": 274
    },
    "colab_type": "code",
    "id": "ADO1rzW5uim2",
    "outputId": "58da471b-3435-4d2d-d76a-ba6e83dc6e9d"
   },
   "outputs": [
    {
     "name": "stdout",
     "output_type": "stream",
     "text": [
      "ERROR! Session/line number was not unique in database. History logging moved to new session 162\n"
     ]
    },
    {
     "data": {
      "text/plain": [
       "<matplotlib.image.AxesImage at 0x1e1802ac688>"
      ]
     },
     "execution_count": 12,
     "metadata": {},
     "output_type": "execute_result"
    },
    {
     "data": {
      "image/png": "[encoded data removed]",
      "text/plain": [
       "<Figure size 432x288 with 1 Axes>"
      ]
     },
     "metadata": {
      "needs_background": "light"
     },
     "output_type": "display_data"
    }
   ],
   "source": [
    "#IMAGE WITH DIRECT SUNLIGHT GLARES ON IT\n",
    "im = Image.open('D:/6 semester/AI/project/selfDrive/dataset/07012018/data/60222.jpg')\n",
    "im = ImageOps.grayscale(im) \n",
    "matplotlib.pyplot.imshow(im)"
   ]
  },
  {
   "cell_type": "code",
   "execution_count": null,
   "metadata": {
    "colab": {
     "base_uri": "https://localhost:8080/",
     "height": 1000
    },
    "colab_type": "code",
    "id": "uZOqu43u0Ti4",
    "outputId": "ec7e9d28-54fc-4664-ba33-3ad1a926919f"
   },
   "outputs": [
    {
     "name": "stderr",
     "output_type": "stream",
     "text": [
      "ERROR:root:Internal Python error in the inspect module.\n",
      "Below is the traceback from this internal error.\n",
      "\n",
      "ERROR:root:Internal Python error in the inspect module.\n",
      "Below is the traceback from this internal error.\n",
      "\n",
      "ERROR:root:Internal Python error in the inspect module.\n",
      "Below is the traceback from this internal error.\n",
      "\n"
     ]
    },
    {
     "name": "stdout",
     "output_type": "stream",
     "text": [
      "ERROR! Session/line number was not unique in database. History logging moved to new session 169\n",
      "Traceback (most recent call last):\n",
      "  File \"E:\\ANACONDA\\envs\\self_drive\\lib\\site-packages\\IPython\\core\\interactiveshell.py\", line 3457, in run_code\n",
      "    exec(code_obj, self.user_global_ns, self.user_ns)\n",
      "  File \"C:\\Users\\DELL\\AppData\\Local\\Temp/ipykernel_2956/3466546890.py\", line 5, in <module>\n",
      "    for k in range(len(rgb_pixel_value)):\n",
      "NameError: name 'rgb_pixel_value' is not defined\n",
      "\n",
      "During handling of the above exception, another exception occurred:\n",
      "\n",
      "Traceback (most recent call last):\n",
      "  File \"E:\\ANACONDA\\envs\\self_drive\\lib\\site-packages\\IPython\\core\\interactiveshell.py\", line 2077, in showtraceback\n",
      "    stb = value._render_traceback_()\n",
      "AttributeError: 'NameError' object has no attribute '_render_traceback_'\n",
      "\n",
      "During handling of the above exception, another exception occurred:\n",
      "\n",
      "Traceback (most recent call last):\n",
      "  File \"E:\\ANACONDA\\envs\\self_drive\\lib\\site-packages\\IPython\\core\\ultratb.py\", line 1101, in get_records\n",
      "    return _fixed_getinnerframes(etb, number_of_lines_of_context, tb_offset)\n",
      "  File \"E:\\ANACONDA\\envs\\self_drive\\lib\\site-packages\\IPython\\core\\ultratb.py\", line 248, in wrapped\n",
      "    return f(*args, **kwargs)\n",
      "  File \"E:\\ANACONDA\\envs\\self_drive\\lib\\site-packages\\IPython\\core\\ultratb.py\", line 281, in _fixed_getinnerframes\n",
      "    records = fix_frame_records_filenames(inspect.getinnerframes(etb, context))\n",
      "  File \"E:\\ANACONDA\\envs\\self_drive\\lib\\inspect.py\", line 1502, in getinnerframes\n",
      "    frameinfo = (tb.tb_frame,) + getframeinfo(tb, context)\n",
      "  File \"E:\\ANACONDA\\envs\\self_drive\\lib\\inspect.py\", line 1460, in getframeinfo\n",
      "    filename = getsourcefile(frame) or getfile(frame)\n",
      "  File \"E:\\ANACONDA\\envs\\self_drive\\lib\\inspect.py\", line 696, in getsourcefile\n",
      "    if getattr(getmodule(object, filename), '__loader__', None) is not None:\n",
      "  File \"E:\\ANACONDA\\envs\\self_drive\\lib\\inspect.py\", line 733, in getmodule\n",
      "    if ismodule(module) and hasattr(module, '__file__'):\n",
      "  File \"E:\\ANACONDA\\envs\\self_drive\\lib\\site-packages\\tensorflow\\__init__.py\", line 50, in __getattr__\n",
      "    module = self._load()\n",
      "  File \"E:\\ANACONDA\\envs\\self_drive\\lib\\site-packages\\tensorflow\\__init__.py\", line 44, in _load\n",
      "    module = _importlib.import_module(self.__name__)\n",
      "  File \"E:\\ANACONDA\\envs\\self_drive\\lib\\importlib\\__init__.py\", line 127, in import_module\n",
      "    return _bootstrap._gcd_import(name[level:], package, level)\n",
      "  File \"<frozen importlib._bootstrap>\", line 1006, in _gcd_import\n",
      "  File \"<frozen importlib._bootstrap>\", line 983, in _find_and_load\n",
      "  File \"<frozen importlib._bootstrap>\", line 965, in _find_and_load_unlocked\n",
      "ModuleNotFoundError: No module named 'tensorflow_core.estimator'\n",
      "Traceback (most recent call last):\n",
      "  File \"E:\\ANACONDA\\envs\\self_drive\\lib\\site-packages\\IPython\\core\\interactiveshell.py\", line 3457, in run_code\n",
      "    exec(code_obj, self.user_global_ns, self.user_ns)\n",
      "  File \"C:\\Users\\DELL\\AppData\\Local\\Temp/ipykernel_2956/3466546890.py\", line 5, in <module>\n",
      "    for k in range(len(rgb_pixel_value)):\n",
      "NameError: name 'rgb_pixel_value' is not defined\n",
      "\n",
      "During handling of the above exception, another exception occurred:\n",
      "\n",
      "Traceback (most recent call last):\n",
      "  File \"E:\\ANACONDA\\envs\\self_drive\\lib\\site-packages\\IPython\\core\\interactiveshell.py\", line 2077, in showtraceback\n",
      "    stb = value._render_traceback_()\n",
      "AttributeError: 'NameError' object has no attribute '_render_traceback_'\n",
      "\n",
      "During handling of the above exception, another exception occurred:\n",
      "\n",
      "Traceback (most recent call last):\n",
      "  File \"E:\\ANACONDA\\envs\\self_drive\\lib\\site-packages\\IPython\\core\\interactiveshell.py\", line 3377, in run_ast_nodes\n",
      "    if (await self.run_code(code, result,  async_=asy)):\n",
      "  File \"E:\\ANACONDA\\envs\\self_drive\\lib\\site-packages\\IPython\\core\\interactiveshell.py\", line 3474, in run_code\n",
      "    self.showtraceback(running_compiled_code=True)\n",
      "  File \"E:\\ANACONDA\\envs\\self_drive\\lib\\site-packages\\IPython\\core\\interactiveshell.py\", line 2080, in showtraceback\n",
      "    value, tb, tb_offset=tb_offset)\n",
      "  File \"E:\\ANACONDA\\envs\\self_drive\\lib\\site-packages\\IPython\\core\\ultratb.py\", line 1368, in structured_traceback\n",
      "    self, etype, value, tb, tb_offset, number_of_lines_of_context)\n",
      "  File \"E:\\ANACONDA\\envs\\self_drive\\lib\\site-packages\\IPython\\core\\ultratb.py\", line 1268, in structured_traceback\n",
      "    self, etype, value, tb, tb_offset, number_of_lines_of_context\n",
      "  File \"E:\\ANACONDA\\envs\\self_drive\\lib\\site-packages\\IPython\\core\\ultratb.py\", line 1125, in structured_traceback\n",
      "    tb_offset)\n",
      "  File \"E:\\ANACONDA\\envs\\self_drive\\lib\\site-packages\\IPython\\core\\ultratb.py\", line 1082, in format_exception_as_a_whole\n",
      "    last_unique, recursion_repeat = find_recursion(orig_etype, evalue, records)\n",
      "  File \"E:\\ANACONDA\\envs\\self_drive\\lib\\site-packages\\IPython\\core\\ultratb.py\", line 382, in find_recursion\n",
      "    return len(records), 0\n",
      "TypeError: object of type 'NoneType' has no len()\n",
      "\n",
      "During handling of the above exception, another exception occurred:\n",
      "\n",
      "Traceback (most recent call last):\n",
      "  File \"E:\\ANACONDA\\envs\\self_drive\\lib\\site-packages\\IPython\\core\\interactiveshell.py\", line 2077, in showtraceback\n",
      "    stb = value._render_traceback_()\n",
      "AttributeError: 'TypeError' object has no attribute '_render_traceback_'\n",
      "\n",
      "During handling of the above exception, another exception occurred:\n",
      "\n",
      "Traceback (most recent call last):\n",
      "  File \"E:\\ANACONDA\\envs\\self_drive\\lib\\site-packages\\IPython\\core\\ultratb.py\", line 1101, in get_records\n",
      "    return _fixed_getinnerframes(etb, number_of_lines_of_context, tb_offset)\n",
      "  File \"E:\\ANACONDA\\envs\\self_drive\\lib\\site-packages\\IPython\\core\\ultratb.py\", line 248, in wrapped\n",
      "    return f(*args, **kwargs)\n",
      "  File \"E:\\ANACONDA\\envs\\self_drive\\lib\\site-packages\\IPython\\core\\ultratb.py\", line 281, in _fixed_getinnerframes\n",
      "    records = fix_frame_records_filenames(inspect.getinnerframes(etb, context))\n",
      "  File \"E:\\ANACONDA\\envs\\self_drive\\lib\\inspect.py\", line 1502, in getinnerframes\n",
      "    frameinfo = (tb.tb_frame,) + getframeinfo(tb, context)\n",
      "  File \"E:\\ANACONDA\\envs\\self_drive\\lib\\inspect.py\", line 1460, in getframeinfo\n",
      "    filename = getsourcefile(frame) or getfile(frame)\n",
      "  File \"E:\\ANACONDA\\envs\\self_drive\\lib\\inspect.py\", line 696, in getsourcefile\n",
      "    if getattr(getmodule(object, filename), '__loader__', None) is not None:\n",
      "  File \"E:\\ANACONDA\\envs\\self_drive\\lib\\inspect.py\", line 733, in getmodule\n",
      "    if ismodule(module) and hasattr(module, '__file__'):\n",
      "  File \"E:\\ANACONDA\\envs\\self_drive\\lib\\site-packages\\tensorflow\\__init__.py\", line 50, in __getattr__\n",
      "    module = self._load()\n",
      "  File \"E:\\ANACONDA\\envs\\self_drive\\lib\\site-packages\\tensorflow\\__init__.py\", line 44, in _load\n",
      "    module = _importlib.import_module(self.__name__)\n",
      "  File \"E:\\ANACONDA\\envs\\self_drive\\lib\\importlib\\__init__.py\", line 127, in import_module\n",
      "    return _bootstrap._gcd_import(name[level:], package, level)\n",
      "  File \"<frozen importlib._bootstrap>\", line 1006, in _gcd_import\n",
      "  File \"<frozen importlib._bootstrap>\", line 983, in _find_and_load\n",
      "  File \"<frozen importlib._bootstrap>\", line 965, in _find_and_load_unlocked\n",
      "ModuleNotFoundError: No module named 'tensorflow_core.estimator'\n",
      "Traceback (most recent call last):\n",
      "  File \"E:\\ANACONDA\\envs\\self_drive\\lib\\site-packages\\IPython\\core\\interactiveshell.py\", line 3457, in run_code\n",
      "    exec(code_obj, self.user_global_ns, self.user_ns)\n",
      "  File \"C:\\Users\\DELL\\AppData\\Local\\Temp/ipykernel_2956/3466546890.py\", line 5, in <module>\n",
      "    for k in range(len(rgb_pixel_value)):\n",
      "NameError: name 'rgb_pixel_value' is not defined\n",
      "\n",
      "During handling of the above exception, another exception occurred:\n",
      "\n",
      "Traceback (most recent call last):\n",
      "  File \"E:\\ANACONDA\\envs\\self_drive\\lib\\site-packages\\IPython\\core\\interactiveshell.py\", line 2077, in showtraceback\n",
      "    stb = value._render_traceback_()\n",
      "AttributeError: 'NameError' object has no attribute '_render_traceback_'\n",
      "\n",
      "During handling of the above exception, another exception occurred:\n",
      "\n",
      "Traceback (most recent call last):\n",
      "  File \"E:\\ANACONDA\\envs\\self_drive\\lib\\site-packages\\IPython\\core\\interactiveshell.py\", line 3377, in run_ast_nodes\n",
      "    if (await self.run_code(code, result,  async_=asy)):\n",
      "  File \"E:\\ANACONDA\\envs\\self_drive\\lib\\site-packages\\IPython\\core\\interactiveshell.py\", line 3474, in run_code\n",
      "    self.showtraceback(running_compiled_code=True)\n",
      "  File \"E:\\ANACONDA\\envs\\self_drive\\lib\\site-packages\\IPython\\core\\interactiveshell.py\", line 2080, in showtraceback\n",
      "    value, tb, tb_offset=tb_offset)\n",
      "  File \"E:\\ANACONDA\\envs\\self_drive\\lib\\site-packages\\IPython\\core\\ultratb.py\", line 1368, in structured_traceback\n",
      "    self, etype, value, tb, tb_offset, number_of_lines_of_context)\n",
      "  File \"E:\\ANACONDA\\envs\\self_drive\\lib\\site-packages\\IPython\\core\\ultratb.py\", line 1268, in structured_traceback\n",
      "    self, etype, value, tb, tb_offset, number_of_lines_of_context\n",
      "  File \"E:\\ANACONDA\\envs\\self_drive\\lib\\site-packages\\IPython\\core\\ultratb.py\", line 1125, in structured_traceback\n",
      "    tb_offset)\n",
      "  File \"E:\\ANACONDA\\envs\\self_drive\\lib\\site-packages\\IPython\\core\\ultratb.py\", line 1082, in format_exception_as_a_whole\n",
      "    last_unique, recursion_repeat = find_recursion(orig_etype, evalue, records)\n",
      "  File \"E:\\ANACONDA\\envs\\self_drive\\lib\\site-packages\\IPython\\core\\ultratb.py\", line 382, in find_recursion\n",
      "    return len(records), 0\n",
      "TypeError: object of type 'NoneType' has no len()\n",
      "\n",
      "During handling of the above exception, another exception occurred:\n",
      "\n",
      "Traceback (most recent call last):\n",
      "  File \"E:\\ANACONDA\\envs\\self_drive\\lib\\site-packages\\IPython\\core\\interactiveshell.py\", line 2077, in showtraceback\n",
      "    stb = value._render_traceback_()\n",
      "AttributeError: 'TypeError' object has no attribute '_render_traceback_'\n",
      "\n",
      "During handling of the above exception, another exception occurred:\n",
      "\n",
      "Traceback (most recent call last):\n",
      "  File \"E:\\ANACONDA\\envs\\self_drive\\lib\\site-packages\\IPython\\core\\interactiveshell.py\", line 2960, in _run_cell\n",
      "    return runner(coro)\n",
      "  File \"E:\\ANACONDA\\envs\\self_drive\\lib\\site-packages\\IPython\\core\\async_helpers.py\", line 78, in _pseudo_sync_runner\n",
      "    coro.send(None)\n",
      "  File \"E:\\ANACONDA\\envs\\self_drive\\lib\\site-packages\\IPython\\core\\interactiveshell.py\", line 3186, in run_cell_async\n",
      "    interactivity=interactivity, compiler=compiler, result=result)\n",
      "  File \"E:\\ANACONDA\\envs\\self_drive\\lib\\site-packages\\IPython\\core\\interactiveshell.py\", line 3396, in run_ast_nodes\n",
      "    self.showtraceback()\n",
      "  File \"E:\\ANACONDA\\envs\\self_drive\\lib\\site-packages\\IPython\\core\\interactiveshell.py\", line 2080, in showtraceback\n",
      "    value, tb, tb_offset=tb_offset)\n",
      "  File \"E:\\ANACONDA\\envs\\self_drive\\lib\\site-packages\\IPython\\core\\ultratb.py\", line 1368, in structured_traceback\n",
      "    self, etype, value, tb, tb_offset, number_of_lines_of_context)\n",
      "  File \"E:\\ANACONDA\\envs\\self_drive\\lib\\site-packages\\IPython\\core\\ultratb.py\", line 1268, in structured_traceback\n",
      "    self, etype, value, tb, tb_offset, number_of_lines_of_context\n",
      "  File \"E:\\ANACONDA\\envs\\self_drive\\lib\\site-packages\\IPython\\core\\ultratb.py\", line 1143, in structured_traceback\n",
      "    chained_exceptions_tb_offset)\n",
      "  File \"E:\\ANACONDA\\envs\\self_drive\\lib\\site-packages\\IPython\\core\\ultratb.py\", line 1082, in format_exception_as_a_whole\n",
      "    last_unique, recursion_repeat = find_recursion(orig_etype, evalue, records)\n",
      "  File \"E:\\ANACONDA\\envs\\self_drive\\lib\\site-packages\\IPython\\core\\ultratb.py\", line 382, in find_recursion\n",
      "    return len(records), 0\n",
      "TypeError: object of type 'NoneType' has no len()\n",
      "\n",
      "During handling of the above exception, another exception occurred:\n",
      "\n",
      "Traceback (most recent call last):\n",
      "  File \"E:\\ANACONDA\\envs\\self_drive\\lib\\site-packages\\IPython\\core\\interactiveshell.py\", line 2077, in showtraceback\n",
      "    stb = value._render_traceback_()\n",
      "AttributeError: 'TypeError' object has no attribute '_render_traceback_'\n",
      "\n",
      "During handling of the above exception, another exception occurred:\n",
      "\n",
      "Traceback (most recent call last):\n",
      "  File \"E:\\ANACONDA\\envs\\self_drive\\lib\\site-packages\\IPython\\core\\ultratb.py\", line 1101, in get_records\n",
      "    return _fixed_getinnerframes(etb, number_of_lines_of_context, tb_offset)\n",
      "  File \"E:\\ANACONDA\\envs\\self_drive\\lib\\site-packages\\IPython\\core\\ultratb.py\", line 248, in wrapped\n",
      "    return f(*args, **kwargs)\n",
      "  File \"E:\\ANACONDA\\envs\\self_drive\\lib\\site-packages\\IPython\\core\\ultratb.py\", line 281, in _fixed_getinnerframes\n",
      "    records = fix_frame_records_filenames(inspect.getinnerframes(etb, context))\n",
      "  File \"E:\\ANACONDA\\envs\\self_drive\\lib\\inspect.py\", line 1502, in getinnerframes\n",
      "    frameinfo = (tb.tb_frame,) + getframeinfo(tb, context)\n",
      "  File \"E:\\ANACONDA\\envs\\self_drive\\lib\\inspect.py\", line 1460, in getframeinfo\n",
      "    filename = getsourcefile(frame) or getfile(frame)\n",
      "  File \"E:\\ANACONDA\\envs\\self_drive\\lib\\inspect.py\", line 696, in getsourcefile\n",
      "    if getattr(getmodule(object, filename), '__loader__', None) is not None:\n",
      "  File \"E:\\ANACONDA\\envs\\self_drive\\lib\\inspect.py\", line 733, in getmodule\n",
      "    if ismodule(module) and hasattr(module, '__file__'):\n",
      "  File \"E:\\ANACONDA\\envs\\self_drive\\lib\\site-packages\\tensorflow\\__init__.py\", line 50, in __getattr__\n",
      "    module = self._load()\n",
      "  File \"E:\\ANACONDA\\envs\\self_drive\\lib\\site-packages\\tensorflow\\__init__.py\", line 44, in _load\n",
      "    module = _importlib.import_module(self.__name__)\n",
      "  File \"E:\\ANACONDA\\envs\\self_drive\\lib\\importlib\\__init__.py\", line 127, in import_module\n",
      "    return _bootstrap._gcd_import(name[level:], package, level)\n",
      "  File \"<frozen importlib._bootstrap>\", line 1006, in _gcd_import\n",
      "  File \"<frozen importlib._bootstrap>\", line 983, in _find_and_load\n",
      "  File \"<frozen importlib._bootstrap>\", line 965, in _find_and_load_unlocked\n",
      "ModuleNotFoundError: No module named 'tensorflow_core.estimator'\n"
     ]
    }
   ],
   "source": [
    "# from PIL import Image, ImageEnhance, ImageOps\n",
    "from keras.preprocessing import image\n",
    "for o in range(60222, 60223):\n",
    "    img = image.load_img(f'D:/6 semester/AI/project/selfDrive/dataset/07012018/data/{o}.jpg',color_mode='grayscale',target_size=[100,100])\n",
    "    for k in range(len(rgb_pixel_value)):\n",
    "        if rgb_pixel_value[k] > 200:\n",
    "            enhancer = ImageEnhance.Contrast(img)\n",
    "            factor = 0.5 \n",
    "            im_output = enhancer.enhance(factor)\n",
    "\n",
    "    print(im_output, \"OUT\")\n",
    "\n",
    "    plt.imshow(im_output)\n",
    "    img = image.img_to_array(im_output)/255.0\n",
    "    xd = []\n",
    "    xd.append(img)\n",
    "print(xd, \"XD\")"
   ]
  },
  {
   "cell_type": "markdown",
   "metadata": {
    "colab_type": "text",
    "id": "11_zA_4u3R1r"
   },
   "source": [
    "## Splitting our Dataset into train and validation set"
   ]
  },
  {
   "cell_type": "code",
   "execution_count": null,
   "metadata": {
    "colab": {
     "base_uri": "https://localhost:8080/",
     "height": 34
    },
    "colab_type": "code",
    "id": "xroO_6aeiRZv",
    "outputId": "502393b1-7f4f-4e3f-9685-2ba39e849a96"
   },
   "outputs": [
    {
     "name": "stdout",
     "output_type": "stream",
     "text": [
      "(51060,) (12765,) (51060,) (12765,)\n"
     ]
    }
   ],
   "source": [
    "l = (int)(x_data.shape[0]*0.8)\n",
    "xtrain = x_data[:l]\n",
    "ytrain = y_data[:l]\n",
    "xtest = x_data[l:]\n",
    "ytest = y_data[l:]\n",
    "print(xtrain.shape, xtest.shape, ytrain.shape, ytest.shape) "
   ]
  },
  {
   "cell_type": "code",
   "execution_count": null,
   "metadata": {
    "colab": {
     "base_uri": "https://localhost:8080/",
     "height": 34
    },
    "colab_type": "code",
    "id": "k7EebJudwntM",
    "outputId": "250732a7-3745-44e7-d26b-951675a50dc2"
   },
   "outputs": [
    {
     "data": {
      "text/plain": [
       "dtype('O')"
      ]
     },
     "execution_count": 33,
     "metadata": {
      "tags": []
     },
     "output_type": "execute_result"
    }
   ],
   "source": [
    "xtrain.dtype"
   ]
  },
  {
   "cell_type": "markdown",
   "metadata": {
    "colab_type": "text",
    "id": "W3hRLfjW3bFw"
   },
   "source": [
    "### Shuffle the test and validation set separetaly"
   ]
  },
  {
   "cell_type": "code",
   "execution_count": null,
   "metadata": {
    "colab": {},
    "colab_type": "code",
    "id": "W4Eknw2mic94"
   },
   "outputs": [],
   "source": [
    "import random\n",
    "c = list(zip(xtrain,ytrain))\n",
    "random.shuffle(c)\n",
    "xtrain,ytrain = zip(*c)\n",
    "\n",
    "\n",
    "c = list(zip(xtest,ytest))\n",
    "random.shuffle(c)\n",
    "xtest,ytest = zip(*c)"
   ]
  },
  {
   "cell_type": "code",
   "execution_count": null,
   "metadata": {
    "colab": {
     "base_uri": "https://localhost:8080/",
     "height": 34
    },
    "colab_type": "code",
    "id": "bEfZ_UOLMB6I",
    "outputId": "ed22c847-68ee-4362-bc1e-4b193d01c3f4"
   },
   "outputs": [
    {
     "data": {
      "text/plain": [
       "['07012018.zip', 'data', 'Weights', 'nw', 'Recording.mp4']"
      ]
     },
     "execution_count": 35,
     "metadata": {
      "tags": []
     },
     "output_type": "execute_result"
    }
   ],
   "source": [
    "#ROOT = '/SDC/My Drive/SDC/selfdrivingcat/'\n",
    "os.listdir(ROOT)"
   ]
  },
  {
   "cell_type": "code",
   "execution_count": null,
   "metadata": {
    "colab": {},
    "colab_type": "code",
    "id": "hoExZ_gDB9Oy"
   },
   "outputs": [],
   "source": [
    "Trainer = 0\n",
    "Tester = 0\n",
    "data_path = f'/tmp/data/'\n",
    "#folder_path = fpt"
   ]
  },
  {
   "cell_type": "code",
   "execution_count": null,
   "metadata": {
    "colab": {},
    "colab_type": "code",
    "id": "EZxusyDTCgky"
   },
   "outputs": [],
   "source": [
    "from keras.preprocessing import image\n",
    "from tqdm import tqdm"
   ]
  },
  {
   "cell_type": "code",
   "execution_count": null,
   "metadata": {
    "colab": {
     "base_uri": "https://localhost:8080/",
     "height": 168
    },
    "colab_type": "code",
    "id": "uk2mBw0y96f8",
    "outputId": "9f14b79d-0e97-4031-9b36-5ec8f4f283a1"
   },
   "outputs": [
    {
     "name": "stdout",
     "output_type": "stream",
     "text": [
      "Collecting ipython-autotime\n",
      "  Downloading https://files.pythonhosted.org/packages/e6/f9/0626bbdb322e3a078d968e87e3b01341e7890544de891d0cb613641220e6/ipython-autotime-0.1.tar.bz2\n",
      "Building wheels for collected packages: ipython-autotime\n",
      "  Building wheel for ipython-autotime (setup.py) ... \u001b[?25l\u001b[?25hdone\n",
      "  Created wheel for ipython-autotime: filename=ipython_autotime-0.1-cp36-none-any.whl size=1832 sha256=4549cf670df24e9ed326c8a591a5cfd2df61df562f7424ccea755f566a773a8a\n",
      "  Stored in directory: /root/.cache/pip/wheels/d2/df/81/2db1e54bc91002cec40334629bc39cfa86dff540b304ebcd6e\n",
      "Successfully built ipython-autotime\n",
      "Installing collected packages: ipython-autotime\n",
      "Successfully installed ipython-autotime-0.1\n"
     ]
    }
   ],
   "source": [
    "pip install ipython-autotime"
   ]
  },
  {
   "cell_type": "code",
   "execution_count": null,
   "metadata": {
    "colab": {},
    "colab_type": "code",
    "id": "qldSpoOIIj5G"
   },
   "outputs": [],
   "source": [
    "%load_ext autotime"
   ]
  },
  {
   "cell_type": "code",
   "execution_count": null,
   "metadata": {
    "colab": {
     "base_uri": "https://localhost:8080/",
     "height": 34
    },
    "colab_type": "code",
    "id": "ZEc4-scHjtxB",
    "outputId": "c204ff3c-ff8f-49ec-d0fa-bd395ad57cee"
   },
   "outputs": [
    {
     "name": "stdout",
     "output_type": "stream",
     "text": [
      "time: 647 µs\n"
     ]
    }
   ],
   "source": [
    "import tensorflow as tf"
   ]
  },
  {
   "cell_type": "code",
   "execution_count": null,
   "metadata": {
    "colab": {
     "base_uri": "https://localhost:8080/",
     "height": 34
    },
    "colab_type": "code",
    "id": "c3gzY0BKqhlt",
    "outputId": "5eebd8ab-8c18-4837-c732-23ad9ce0bc30"
   },
   "outputs": [
    {
     "data": {
      "text/plain": [
       "dtype('O')"
      ]
     },
     "execution_count": 44,
     "metadata": {
      "tags": []
     },
     "output_type": "execute_result"
    },
    {
     "name": "stdout",
     "output_type": "stream",
     "text": [
      "time: 3.3 ms\n"
     ]
    }
   ],
   "source": [
    "data.dtype"
   ]
  },
  {
   "cell_type": "code",
   "execution_count": null,
   "metadata": {
    "colab": {
     "base_uri": "https://localhost:8080/",
     "height": 34
    },
    "colab_type": "code",
    "id": "LLCLwxAxArr5",
    "outputId": "a754e10e-81de-4365-eb16-ae604c2481a1"
   },
   "outputs": [
    {
     "name": "stdout",
     "output_type": "stream",
     "text": [
      "time: 1.74 ms\n"
     ]
    }
   ],
   "source": [
    "from keras.layers import Conv2D,Flatten, Dense, Dropout, MaxPooling2D\n",
    "from keras.models import Sequential\n",
    "import tensorflow as tf\n",
    "from keras import regularizers\n",
    "from keras.optimizers import Adam"
   ]
  },
  {
   "cell_type": "markdown",
   "metadata": {
    "colab_type": "text",
    "id": "hMgmfsaQ4AhU"
   },
   "source": [
    "# MODEL"
   ]
  },
  {
   "cell_type": "code",
   "execution_count": null,
   "metadata": {
    "colab": {
     "base_uri": "https://localhost:8080/",
     "height": 773
    },
    "colab_type": "code",
    "id": "ryj1SD0_xx3K",
    "outputId": "6ff92664-125e-4a13-98a4-5ce9ed397955"
   },
   "outputs": [
    {
     "name": "stdout",
     "output_type": "stream",
     "text": [
      "Model: \"sequential_3\"\n",
      "_________________________________________________________________\n",
      "Layer (type)                 Output Shape              Param #   \n",
      "=================================================================\n",
      "conv2d_15 (Conv2D)           (None, 98, 98, 16)        160       \n",
      "_________________________________________________________________\n",
      "max_pooling2d_10 (MaxPooling (None, 49, 49, 16)        0         \n",
      "_________________________________________________________________\n",
      "conv2d_16 (Conv2D)           (None, 47, 47, 32)        4640      \n",
      "_________________________________________________________________\n",
      "max_pooling2d_11 (MaxPooling (None, 23, 23, 32)        0         \n",
      "_________________________________________________________________\n",
      "conv2d_17 (Conv2D)           (None, 21, 21, 64)        18496     \n",
      "_________________________________________________________________\n",
      "max_pooling2d_12 (MaxPooling (None, 10, 10, 64)        0         \n",
      "_________________________________________________________________\n",
      "conv2d_18 (Conv2D)           (None, 8, 8, 256)         147712    \n",
      "_________________________________________________________________\n",
      "max_pooling2d_13 (MaxPooling (None, 4, 4, 256)         0         \n",
      "_________________________________________________________________\n",
      "conv2d_19 (Conv2D)           (None, 2, 2, 512)         1180160   \n",
      "_________________________________________________________________\n",
      "max_pooling2d_14 (MaxPooling (None, 1, 1, 512)         0         \n",
      "_________________________________________________________________\n",
      "flatten_3 (Flatten)          (None, 512)               0         \n",
      "_________________________________________________________________\n",
      "dense_12 (Dense)             (None, 512)               262656    \n",
      "_________________________________________________________________\n",
      "dropout_9 (Dropout)          (None, 512)               0         \n",
      "_________________________________________________________________\n",
      "dense_13 (Dense)             (None, 256)               131328    \n",
      "_________________________________________________________________\n",
      "dropout_10 (Dropout)         (None, 256)               0         \n",
      "_________________________________________________________________\n",
      "dense_14 (Dense)             (None, 128)               32896     \n",
      "_________________________________________________________________\n",
      "dropout_11 (Dropout)         (None, 128)               0         \n",
      "_________________________________________________________________\n",
      "dense_15 (Dense)             (None, 1)                 129       \n",
      "=================================================================\n",
      "Total params: 1,778,177\n",
      "Trainable params: 1,778,177\n",
      "Non-trainable params: 0\n",
      "_________________________________________________________________\n",
      "time: 116 ms\n"
     ]
    }
   ],
   "source": [
    "model = tf.keras.models.Sequential([\n",
    "                                    tf.keras.layers.Conv2D(16, (3,3), activation = 'relu', input_shape=(100, 100, 1)),\n",
    "                                    tf.keras.layers.MaxPooling2D(2, 2),\n",
    "                                 \n",
    "                                    tf.keras.layers.Conv2D(32, (3,3), activation = 'relu'),\n",
    "                                    tf.keras.layers.MaxPooling2D(2,2),\n",
    "                                 \n",
    "                                    tf.keras.layers.Conv2D(64, (3,3), activation = 'relu'),\n",
    "                                    tf.keras.layers.MaxPooling2D(2, 2),\n",
    "                                 \n",
    "                                    tf.keras.layers.Conv2D(256, (3,3), activation = 'relu'),\n",
    "                                    tf.keras.layers.MaxPooling2D(2, 2),\n",
    "                                 \n",
    "                                    tf.keras.layers.Conv2D(512,(3,3), activation = 'relu'),\n",
    "                                    tf.keras.layers.MaxPooling2D(2,2),\n",
    "                                    \n",
    "                                    tf.keras.layers.Flatten(),\n",
    "                                    \n",
    "                                    tf.keras.layers.Dense(512, activation = 'relu'),\n",
    "                                    tf.keras.layers.Dropout(0.2),\n",
    "                                 \n",
    "                                    tf.keras.layers.Dense(256, activation = 'relu'),\n",
    "                                    tf.keras.layers.Dropout(0.2),\n",
    "                                 \n",
    "                                    tf.keras.layers.Dense(128, activation = 'relu'),\n",
    "                                    tf.keras.layers.Dropout(0.2),\n",
    "                                 \n",
    "                                    tf.keras.layers.Dense(1, activation='tanh')\n",
    "])\n",
    "\n",
    "model.summary()"
   ]
  },
  {
   "cell_type": "markdown",
   "metadata": {
    "colab_type": "text",
    "id": "0_58xvwZDk1n"
   },
   "source": [
    "# MODEL 2"
   ]
  },
  {
   "cell_type": "code",
   "execution_count": null,
   "metadata": {
    "colab": {
     "base_uri": "https://localhost:8080/",
     "height": 773
    },
    "colab_type": "code",
    "id": "Hzosz44jxlPI",
    "outputId": "770bacb6-4305-472f-b23e-e4171effc52f"
   },
   "outputs": [
    {
     "name": "stdout",
     "output_type": "stream",
     "text": [
      "Model: \"sequential_4\"\n",
      "_________________________________________________________________\n",
      "Layer (type)                 Output Shape              Param #   \n",
      "=================================================================\n",
      "conv2d_20 (Conv2D)           (None, 98, 98, 16)        448       \n",
      "_________________________________________________________________\n",
      "max_pooling2d_15 (MaxPooling (None, 49, 49, 16)        0         \n",
      "_________________________________________________________________\n",
      "conv2d_21 (Conv2D)           (None, 47, 47, 32)        4640      \n",
      "_________________________________________________________________\n",
      "max_pooling2d_16 (MaxPooling (None, 23, 23, 32)        0         \n",
      "_________________________________________________________________\n",
      "conv2d_22 (Conv2D)           (None, 21, 21, 64)        18496     \n",
      "_________________________________________________________________\n",
      "max_pooling2d_17 (MaxPooling (None, 10, 10, 64)        0         \n",
      "_________________________________________________________________\n",
      "conv2d_23 (Conv2D)           (None, 8, 8, 256)         147712    \n",
      "_________________________________________________________________\n",
      "max_pooling2d_18 (MaxPooling (None, 4, 4, 256)         0         \n",
      "_________________________________________________________________\n",
      "conv2d_24 (Conv2D)           (None, 2, 2, 512)         1180160   \n",
      "_________________________________________________________________\n",
      "max_pooling2d_19 (MaxPooling (None, 1, 1, 512)         0         \n",
      "_________________________________________________________________\n",
      "flatten_4 (Flatten)          (None, 512)               0         \n",
      "_________________________________________________________________\n",
      "dense_16 (Dense)             (None, 512)               262656    \n",
      "_________________________________________________________________\n",
      "dropout_12 (Dropout)         (None, 512)               0         \n",
      "_________________________________________________________________\n",
      "dense_17 (Dense)             (None, 256)               131328    \n",
      "_________________________________________________________________\n",
      "dropout_13 (Dropout)         (None, 256)               0         \n",
      "_________________________________________________________________\n",
      "dense_18 (Dense)             (None, 128)               32896     \n",
      "_________________________________________________________________\n",
      "dropout_14 (Dropout)         (None, 128)               0         \n",
      "_________________________________________________________________\n",
      "dense_19 (Dense)             (None, 1)                 129       \n",
      "=================================================================\n",
      "Total params: 1,778,465\n",
      "Trainable params: 1,778,465\n",
      "Non-trainable params: 0\n",
      "_________________________________________________________________\n",
      "time: 115 ms\n"
     ]
    }
   ],
   "source": [
    "cnn = tf.keras.models.Sequential([\n",
    "                                    tf.keras.layers.Conv2D(16, (3,3), activation = 'relu', input_shape=(100, 100, 3)),\n",
    "                                    tf.keras.layers.MaxPooling2D(2, 2),\n",
    "                                    tf.keras.layers.Conv2D(32, (3,3), activation = 'relu'),\n",
    "                                    tf.keras.layers.MaxPooling2D(2,2),\n",
    "                                    tf.keras.layers.Conv2D(64, (3,3), activation = 'relu'),\n",
    "                                    tf.keras.layers.MaxPooling2D(2, 2),\n",
    "                                    tf.keras.layers.Conv2D(256, (3,3), activation = 'relu'),\n",
    "                                    tf.keras.layers.MaxPooling2D(2, 2),\n",
    "                                    tf.keras.layers.Conv2D(512,(3,3), activation = 'relu'),\n",
    "                                    tf.keras.layers.MaxPooling2D(2,2),\n",
    "                                    \n",
    "                                    tf.keras.layers.Flatten(),\n",
    "                                    \n",
    "                                    tf.keras.layers.Dense(512, activation = 'relu'),\n",
    "                                    tf.keras.layers.Dropout(0.2),\n",
    "                                    tf.keras.layers.Dense(256, activation = 'relu'),\n",
    "                                    tf.keras.layers.Dropout(0.2),\n",
    "                                    tf.keras.layers.Dense(128, activation = 'relu'),\n",
    "                                    tf.keras.layers.Dropout(0.2),\n",
    "                                    tf.keras.layers.Dense(1, activation='tanh')\n",
    "])\n",
    "\n",
    "cnn.summary()"
   ]
  },
  {
   "cell_type": "code",
   "execution_count": null,
   "metadata": {
    "colab": {
     "base_uri": "https://localhost:8080/",
     "height": 34
    },
    "colab_type": "code",
    "id": "P-Dg7Gn7-oBZ",
    "outputId": "ae7f1f4f-18f9-489d-a0f9-43a78ba637d3"
   },
   "outputs": [
    {
     "name": "stdout",
     "output_type": "stream",
     "text": [
      "time: 16.3 ms\n"
     ]
    }
   ],
   "source": [
    "from tensorflow.keras.optimizers import Adam\n",
    "model.compile(optimizer = Adam(lr = 0.0001), loss = 'mse', metrics = ['mae'])"
   ]
  },
  {
   "cell_type": "code",
   "execution_count": null,
   "metadata": {
    "colab": {
     "base_uri": "https://localhost:8080/",
     "height": 50
    },
    "colab_type": "code",
    "id": "iTwSE4DfNmBh",
    "outputId": "09843c56-6822-4782-c032-106950626726"
   },
   "outputs": [
    {
     "name": "stdout",
     "output_type": "stream",
     "text": [
      "WARNING:tensorflow:`period` argument is deprecated. Please use `save_freq` to specify the frequency in number of batches seen.\n",
      "time: 6.4 ms\n"
     ]
    }
   ],
   "source": [
    "import keras\n",
    "filepath_02=\"/content/drive/My Drive/SDC/nw/z-1-weights-{val_loss:.4f}.h5\"\n",
    "checkpointing = keras.callbacks.ModelCheckpoint(filepath_02, monitor='val_loss', verbose=1, save_best_only = True, save_weights_only=True, mode='auto', period=1)\n",
    "callbacks_l = [checkpointing]"
   ]
  },
  {
   "cell_type": "code",
   "execution_count": null,
   "metadata": {
    "colab": {
     "base_uri": "https://localhost:8080/",
     "height": 34
    },
    "colab_type": "code",
    "id": "PuG4nCC3xw4P",
    "outputId": "b9b26034-7dc0-4fd4-8b02-2a41b0ae8f99"
   },
   "outputs": [
    {
     "name": "stdout",
     "output_type": "stream",
     "text": [
      "time: 12.6 ms\n"
     ]
    }
   ],
   "source": [
    "cnn.compile(optimizer = Adam(lr = 0.0001), loss = 'mse', metrics = ['mae'])"
   ]
  },
  {
   "cell_type": "markdown",
   "metadata": {
    "colab_type": "text",
    "id": "a3i3M0Tn5bAM"
   },
   "source": [
    "## Function tom Load Images in given batch sizes"
   ]
  },
  {
   "cell_type": "code",
   "execution_count": null,
   "metadata": {
    "colab": {
     "base_uri": "https://localhost:8080/",
     "height": 34
    },
    "colab_type": "code",
    "id": "IjSX6SqYVHDR",
    "outputId": "73eb8542-59e4-4a58-a3a0-9b0d2a79aa01"
   },
   "outputs": [
    {
     "name": "stdout",
     "output_type": "stream",
     "text": [
      "time: 8.73 ms\n"
     ]
    }
   ],
   "source": [
    "def LoadBatch(xdata, ydata, batch_size):\n",
    "  xd = []\n",
    "  yd = []\n",
    "  Pointer = 0;\n",
    "  l = len(xtrain)\n",
    "  while True:\n",
    "    img = image.load_img(data_path+xdata[(Pointer) % l], color_mode = 'grayscale', target_size = [100, 100])\n",
    "    enhancer = ImageEnhance.Contrast(img)\n",
    "    img = ImageOps.grayscale(img)\n",
    "    factor = 0.5 #increase contrast\n",
    "    im_output = enhancer.enhance(factor)\n",
    "    img = image.img_to_array(img) / 255.0\n",
    "    xd.append(img)\n",
    "    yd.append(float(ydata[(Pointer) % l]) * (np.pi / 180))\n",
    "    Pointer = Pointer + 1\n",
    "    if len(xd) == batch_size:\n",
    "      yield np.array(xd), np.array(yd)\n",
    "      xd = []\n",
    "      yd = []"
   ]
  },
  {
   "cell_type": "markdown",
   "metadata": {
    "colab_type": "text",
    "id": "ZsNVcncj5mcM"
   },
   "source": [
    "## Training "
   ]
  },
  {
   "cell_type": "code",
   "execution_count": null,
   "metadata": {
    "colab": {
     "base_uri": "https://localhost:8080/",
     "height": 34
    },
    "colab_type": "code",
    "id": "uNk9jH6STGsk",
    "outputId": "2b059e24-53b1-49b9-9cff-8949af8329e8"
   },
   "outputs": [
    {
     "name": "stdout",
     "output_type": "stream",
     "text": [
      "time: 1.24 ms\n"
     ]
    }
   ],
   "source": [
    "batch_size = 100\n",
    "train_data_generator = LoadBatch(xtrain, ytrain, batch_size)\n",
    "valid_data_generator = LoadBatch(xtest, ytest, batch_size)"
   ]
  },
  {
   "cell_type": "code",
   "execution_count": null,
   "metadata": {
    "colab": {
     "base_uri": "https://localhost:8080/",
     "height": 406
    },
    "colab_type": "code",
    "id": "WUf4xHvcYQg4",
    "outputId": "54f5de79-7faf-4e01-ad33-ae2ece8e9729"
   },
   "outputs": [],
   "source": [
    "model.fit(train_data_generator, epochs = 5, steps_per_epoch = len(xtrain) // batch_size, verbose = 1 ,validation_data = valid_data_generator, validation_steps = len(xtest) // batch_size, callbacks=callbacks_l)"
   ]
  },
  {
   "cell_type": "code",
   "execution_count": null,
   "metadata": {},
   "outputs": [],
   "source": []
  }
 ],
 "metadata": {
  "accelerator": "GPU",
  "colab": {
   "collapsed_sections": [],
   "name": "Self-Driving-Car",
   "provenance": []
  },
  "kernelspec": {
   "display_name": "Python 3 (ipykernel)",
   "language": "python",
   "name": "python3"
  },
  "language_info": {
   "codemirror_mode": {
    "name": "ipython",
    "version": 3
   },
   "file_extension": ".py",
   "mimetype": "text/x-python",
   "name": "python",
   "nbconvert_exporter": "python",
   "pygments_lexer": "ipython3",
   "version": "3.7.11"
  }
 },
 "nbformat": 4,
 "nbformat_minor": 1
}
